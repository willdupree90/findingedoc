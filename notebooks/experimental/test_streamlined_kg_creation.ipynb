{
 "cells": [
  {
   "cell_type": "code",
   "execution_count": 1,
   "metadata": {},
   "outputs": [],
   "source": [
    "from edoc.kg_construction.bulk_load import CodebaseGraph"
   ]
  },
  {
   "cell_type": "code",
   "execution_count": null,
   "metadata": {},
   "outputs": [],
   "source": [
    "# \"C:\\\\Users\\\\willd\\\\Documents\\\\Git\\\\resume_website\\\\react-resume-template\"\n",
    "# \"C:\\\\Users\\\\willd\\\\Documents\\\\Git\\\\graphRag\\\\test_project\"\n",
    "\n",
    "# Example usage\n",
    "codebase_graph = CodebaseGraph(\n",
    "    root_directory='../../src/edoc/uploads/test_project'\n",
    ")\n",
    "codebase_graph.create_graph()"
   ]
  },
  {
   "cell_type": "code",
   "execution_count": null,
   "metadata": {},
   "outputs": [],
   "source": []
  }
 ],
 "metadata": {
  "kernelspec": {
   "display_name": "edoc_env",
   "language": "python",
   "name": "python3"
  },
  "language_info": {
   "codemirror_mode": {
    "name": "ipython",
    "version": 3
   },
   "file_extension": ".py",
   "mimetype": "text/x-python",
   "name": "python",
   "nbconvert_exporter": "python",
   "pygments_lexer": "ipython3",
   "version": "3.11.9"
  }
 },
 "nbformat": 4,
 "nbformat_minor": 2
}
