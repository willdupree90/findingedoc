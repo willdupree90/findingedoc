{
 "cells": [
  {
   "cell_type": "code",
   "execution_count": 1,
   "metadata": {},
   "outputs": [],
   "source": [
    "from edoc.rag_components.responder import BuildResponse"
   ]
  },
  {
   "cell_type": "code",
   "execution_count": null,
   "metadata": {},
   "outputs": [],
   "source": [
    "responder = BuildResponse(model=\"gpt-4o-mini\")\n",
    "\n",
    "question = \"Can you tell me more about `Src` directory and what types of files it has?\"\n",
    "\n",
    "response = responder.get_response(question=question, structured_retriever_key=\"summary_question\")\n",
    "\n",
    "print(response)"
   ]
  },
  {
   "cell_type": "code",
   "execution_count": null,
   "metadata": {},
   "outputs": [],
   "source": [
    "question = \"Is there a place I can update testimonial information?\"\n",
    "\n",
    "response = responder.get_response(\n",
    "    question=question, \n",
    "    structured_retriever_key=\"code_question\",\n",
    "    top_k=2,\n",
    "    next_chunk_limit=1\n",
    ")\n",
    "\n",
    "print(response)"
   ]
  },
  {
   "cell_type": "code",
   "execution_count": null,
   "metadata": {},
   "outputs": [],
   "source": []
  }
 ],
 "metadata": {
  "kernelspec": {
   "display_name": "edoc_env",
   "language": "python",
   "name": "python3"
  },
  "language_info": {
   "codemirror_mode": {
    "name": "ipython",
    "version": 3
   },
   "file_extension": ".py",
   "mimetype": "text/x-python",
   "name": "python",
   "nbconvert_exporter": "python",
   "pygments_lexer": "ipython3",
   "version": "3.11.9"
  }
 },
 "nbformat": 4,
 "nbformat_minor": 2
}
